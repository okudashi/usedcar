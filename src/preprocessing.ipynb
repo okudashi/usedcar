{
 "cells": [
  {
   "cell_type": "code",
   "execution_count": 1,
   "metadata": {},
   "outputs": [],
   "source": [
    "import pandas as pd"
   ]
  },
  {
   "cell_type": "code",
   "execution_count": 8,
   "metadata": {},
   "outputs": [],
   "source": [
    "df = pd.read_csv('../data/car_ads_3.csv', index_col=0)\n",
    "df_pre = df"
   ]
  },
  {
   "cell_type": "code",
   "execution_count": 7,
   "metadata": {},
   "outputs": [],
   "source": [
    "features = list(df.columns)"
   ]
  },
  {
   "cell_type": "code",
   "execution_count": 18,
   "metadata": {},
   "outputs": [],
   "source": [
    "def outlier_df(df):\n",
    "\n",
    "    for i in range(len(df.columns)):\n",
    "\n",
    "        # 列を抽出する\n",
    "        col = df.iloc[:,i]\n",
    "\n",
    "        # 四分位数\n",
    "        q1 = col.describe()['25%']\n",
    "        q3 = col.describe()['75%']\n",
    "        iqr = q3 - q1 #四分位範囲\n",
    "\n",
    "        # 外れ値の基準点\n",
    "        outlier_min = q1 - (iqr) * 1.5\n",
    "        outlier_max = q3 + (iqr) * 1.5\n",
    "\n",
    "        # 範囲から外れている値を除く\n",
    "        col[col < outlier_min] = None\n",
    "        col[col > outlier_max] = None\n",
    "\n",
    "    return df\n",
    "\n",
    "\n",
    "def outlier_se(series):\n",
    "    # 四分位数\n",
    "    q1 = series.describe()['25%']\n",
    "    q3 = series.describe()['75%']\n",
    "    iqr = q3 - q1 #四分位範囲\n",
    "\n",
    "    # 外れ値の基準点\n",
    "    outlier_min = q1 - (iqr) * 1.5\n",
    "    outlier_max = q3 + (iqr) * 1.5\n",
    "\n",
    "    # 範囲から外れている値を除く\n",
    "    series[series < outlier_min] = None\n",
    "    series[series > outlier_max] = None\n",
    "\n",
    "    return series"
   ]
  },
  {
   "cell_type": "code",
   "execution_count": 13,
   "metadata": {},
   "outputs": [
    {
     "data": {
      "text/plain": [
       "1295.34"
      ]
     },
     "execution_count": 13,
     "metadata": {},
     "output_type": "execute_result"
    }
   ],
   "source": [
    "outlier_se(df['price_eur'])"
   ]
  },
  {
   "cell_type": "code",
   "execution_count": null,
   "metadata": {},
   "outputs": [],
   "source": []
  }
 ],
 "metadata": {
  "kernelspec": {
   "display_name": "Python 3",
   "language": "python",
   "name": "python3"
  },
  "language_info": {
   "codemirror_mode": {
    "name": "ipython",
    "version": 3
   },
   "file_extension": ".py",
   "mimetype": "text/x-python",
   "name": "python",
   "nbconvert_exporter": "python",
   "pygments_lexer": "ipython3",
   "version": "3.7.3"
  }
 },
 "nbformat": 4,
 "nbformat_minor": 4
}
