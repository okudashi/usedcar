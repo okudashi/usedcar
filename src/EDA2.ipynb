{
 "cells": [
  {
   "cell_type": "code",
   "execution_count": 266,
   "metadata": {},
   "outputs": [],
   "source": [
    "import pandas as pd\n",
    "import numpy as np\n",
    "import matplotlib.pyplot as plt\n",
    "import seaborn as sns\n",
    "import pandas_profiling as pdp\n",
    "from tqdm import tqdm_notebook as tqdm\n",
    "sns.set(style=\"darkgrid\")"
   ]
  },
  {
   "cell_type": "code",
   "execution_count": 267,
   "metadata": {},
   "outputs": [],
   "source": [
    "# fontsizeの設定\n",
    "plt.rcParams[\"font.size\"] = 30\n",
    "\n",
    "# サイズの設定\n",
    "plt.rcParams['figure.figsize'] = (8, 6)"
   ]
  },
  {
   "cell_type": "code",
   "execution_count": 268,
   "metadata": {},
   "outputs": [],
   "source": [
    "data = pd.read_csv('../data/car_ads_3.csv', index_col=0)"
   ]
  },
  {
   "cell_type": "code",
   "execution_count": 269,
   "metadata": {},
   "outputs": [],
   "source": [
    "df = data"
   ]
  },
  {
   "cell_type": "code",
   "execution_count": 270,
   "metadata": {},
   "outputs": [
    {
     "data": {
      "text/html": [
       "<div>\n",
       "<style scoped>\n",
       "    .dataframe tbody tr th:only-of-type {\n",
       "        vertical-align: middle;\n",
       "    }\n",
       "\n",
       "    .dataframe tbody tr th {\n",
       "        vertical-align: top;\n",
       "    }\n",
       "\n",
       "    .dataframe thead th {\n",
       "        text-align: right;\n",
       "    }\n",
       "</style>\n",
       "<table border=\"1\" class=\"dataframe\">\n",
       "  <thead>\n",
       "    <tr style=\"text-align: right;\">\n",
       "      <th></th>\n",
       "      <th>maker</th>\n",
       "      <th>model</th>\n",
       "      <th>mileage</th>\n",
       "      <th>manufacture_year</th>\n",
       "      <th>engine_displacement</th>\n",
       "      <th>engine_power</th>\n",
       "      <th>body_type</th>\n",
       "      <th>color_slug</th>\n",
       "      <th>stk_year</th>\n",
       "      <th>transmission</th>\n",
       "      <th>door_count</th>\n",
       "      <th>seat_count</th>\n",
       "      <th>fuel_type</th>\n",
       "      <th>date_created</th>\n",
       "      <th>date_last_seen</th>\n",
       "      <th>price_eur</th>\n",
       "    </tr>\n",
       "  </thead>\n",
       "  <tbody>\n",
       "    <tr>\n",
       "      <th>2282567</th>\n",
       "      <td>ford</td>\n",
       "      <td>fiesta</td>\n",
       "      <td>129000.0</td>\n",
       "      <td>2009.0</td>\n",
       "      <td>NaN</td>\n",
       "      <td>88.0</td>\n",
       "      <td>other</td>\n",
       "      <td>NaN</td>\n",
       "      <td>NaN</td>\n",
       "      <td>man</td>\n",
       "      <td>NaN</td>\n",
       "      <td>NaN</td>\n",
       "      <td>NaN</td>\n",
       "      <td>2016-03-01 04:22:44.466271+00</td>\n",
       "      <td>2016-07-03 17:16:27.50003+00</td>\n",
       "      <td>6900.00</td>\n",
       "    </tr>\n",
       "    <tr>\n",
       "      <th>845119</th>\n",
       "      <td>seat</td>\n",
       "      <td>leon</td>\n",
       "      <td>NaN</td>\n",
       "      <td>2004.0</td>\n",
       "      <td>4245.0</td>\n",
       "      <td>NaN</td>\n",
       "      <td>compact</td>\n",
       "      <td>NaN</td>\n",
       "      <td>None</td>\n",
       "      <td>NaN</td>\n",
       "      <td>None</td>\n",
       "      <td>None</td>\n",
       "      <td>gasoline</td>\n",
       "      <td>2015-12-22 06:54:54.986737+00</td>\n",
       "      <td>2016-01-07 10:08:16.993797+00</td>\n",
       "      <td>3886.01</td>\n",
       "    </tr>\n",
       "    <tr>\n",
       "      <th>645106</th>\n",
       "      <td>smart</td>\n",
       "      <td>fortwo</td>\n",
       "      <td>99985.0</td>\n",
       "      <td>2004.0</td>\n",
       "      <td>698.0</td>\n",
       "      <td>37.0</td>\n",
       "      <td>NaN</td>\n",
       "      <td>NaN</td>\n",
       "      <td>None</td>\n",
       "      <td>auto</td>\n",
       "      <td>2</td>\n",
       "      <td>2</td>\n",
       "      <td>gasoline</td>\n",
       "      <td>2015-12-12 17:23:52.693186+00</td>\n",
       "      <td>2016-02-10 20:13:12.406986+00</td>\n",
       "      <td>2000.22</td>\n",
       "    </tr>\n",
       "    <tr>\n",
       "      <th>2468530</th>\n",
       "      <td>ford</td>\n",
       "      <td>focus</td>\n",
       "      <td>212020.0</td>\n",
       "      <td>2002.0</td>\n",
       "      <td>1753.0</td>\n",
       "      <td>66.0</td>\n",
       "      <td>other</td>\n",
       "      <td>NaN</td>\n",
       "      <td>NaN</td>\n",
       "      <td>man</td>\n",
       "      <td>5</td>\n",
       "      <td>5</td>\n",
       "      <td>NaN</td>\n",
       "      <td>2016-03-04 22:05:51.891484+00</td>\n",
       "      <td>2016-07-03 17:34:54.394008+00</td>\n",
       "      <td>1600.00</td>\n",
       "    </tr>\n",
       "    <tr>\n",
       "      <th>3478350</th>\n",
       "      <td>volkswagen</td>\n",
       "      <td>golf</td>\n",
       "      <td>180000.0</td>\n",
       "      <td>2003.0</td>\n",
       "      <td>1900.0</td>\n",
       "      <td>74.0</td>\n",
       "      <td>other</td>\n",
       "      <td>NaN</td>\n",
       "      <td>NaN</td>\n",
       "      <td>man</td>\n",
       "      <td>NaN</td>\n",
       "      <td>NaN</td>\n",
       "      <td>NaN</td>\n",
       "      <td>2017-02-28 18:34:33.090724+00</td>\n",
       "      <td>2017-03-06 01:07:20.215485+00</td>\n",
       "      <td>1295.34</td>\n",
       "    </tr>\n",
       "  </tbody>\n",
       "</table>\n",
       "</div>"
      ],
      "text/plain": [
       "              maker   model   mileage  manufacture_year  engine_displacement  \\\n",
       "2282567        ford  fiesta  129000.0            2009.0                  NaN   \n",
       "845119         seat    leon       NaN            2004.0               4245.0   \n",
       "645106        smart  fortwo   99985.0            2004.0                698.0   \n",
       "2468530        ford   focus  212020.0            2002.0               1753.0   \n",
       "3478350  volkswagen    golf  180000.0            2003.0               1900.0   \n",
       "\n",
       "         engine_power body_type color_slug stk_year transmission door_count  \\\n",
       "2282567          88.0     other        NaN      NaN          man        NaN   \n",
       "845119            NaN   compact        NaN     None          NaN       None   \n",
       "645106           37.0       NaN        NaN     None         auto          2   \n",
       "2468530          66.0     other        NaN      NaN          man          5   \n",
       "3478350          74.0     other        NaN      NaN          man        NaN   \n",
       "\n",
       "        seat_count fuel_type                   date_created  \\\n",
       "2282567        NaN       NaN  2016-03-01 04:22:44.466271+00   \n",
       "845119        None  gasoline  2015-12-22 06:54:54.986737+00   \n",
       "645106           2  gasoline  2015-12-12 17:23:52.693186+00   \n",
       "2468530          5       NaN  2016-03-04 22:05:51.891484+00   \n",
       "3478350        NaN       NaN  2017-02-28 18:34:33.090724+00   \n",
       "\n",
       "                        date_last_seen  price_eur  \n",
       "2282567   2016-07-03 17:16:27.50003+00    6900.00  \n",
       "845119   2016-01-07 10:08:16.993797+00    3886.01  \n",
       "645106   2016-02-10 20:13:12.406986+00    2000.22  \n",
       "2468530  2016-07-03 17:34:54.394008+00    1600.00  \n",
       "3478350  2017-03-06 01:07:20.215485+00    1295.34  "
      ]
     },
     "execution_count": 270,
     "metadata": {},
     "output_type": "execute_result"
    }
   ],
   "source": [
    "df.head(5)"
   ]
  },
  {
   "cell_type": "code",
   "execution_count": 271,
   "metadata": {},
   "outputs": [
    {
     "name": "stdout",
     "output_type": "stream",
     "text": [
      "---データ数(shape)---\n",
      "(888228, 16)\n",
      "\n",
      "\n",
      "---有効データ数(count)---\n",
      "maker                  758767\n",
      "model                  604963\n",
      "mileage                797759\n",
      "manufacture_year       795878\n",
      "engine_displacement    702433\n",
      "engine_power           749571\n",
      "body_type              608008\n",
      "color_slug              52624\n",
      "stk_year               460425\n",
      "transmission           702799\n",
      "door_count             734344\n",
      "seat_count             700943\n",
      "fuel_type              426005\n",
      "date_created           888228\n",
      "date_last_seen         888228\n",
      "price_eur              888228\n",
      "dtype: int64\n",
      "\n",
      "\n",
      "---欠損データ数（isnull().sum()---\n",
      "maker                  129461\n",
      "model                  283265\n",
      "mileage                 90469\n",
      "manufacture_year        92350\n",
      "engine_displacement    185795\n",
      "engine_power           138657\n",
      "body_type              280220\n",
      "color_slug             835604\n",
      "stk_year               427803\n",
      "transmission           185429\n",
      "door_count             153884\n",
      "seat_count             187285\n",
      "fuel_type              462223\n",
      "date_created                0\n",
      "date_last_seen              0\n",
      "price_eur                   0\n",
      "dtype: int64\n",
      "\n",
      "\n",
      "---欠損値の割合---\n",
      "maker                  0.145752\n",
      "model                  0.318910\n",
      "mileage                0.101853\n",
      "manufacture_year       0.103971\n",
      "engine_displacement    0.209175\n",
      "engine_power           0.156105\n",
      "body_type              0.315482\n",
      "color_slug             0.940754\n",
      "stk_year               0.481636\n",
      "transmission           0.208763\n",
      "door_count             0.173248\n",
      "seat_count             0.210852\n",
      "fuel_type              0.520388\n",
      "date_created           0.000000\n",
      "date_last_seen         0.000000\n",
      "price_eur              0.000000\n",
      "dtype: float64\n",
      "\n",
      "\n",
      "---データ型(dtypes)---\n",
      "maker                   object\n",
      "model                   object\n",
      "mileage                float64\n",
      "manufacture_year       float64\n",
      "engine_displacement    float64\n",
      "engine_power           float64\n",
      "body_type               object\n",
      "color_slug              object\n",
      "stk_year                object\n",
      "transmission            object\n",
      "door_count              object\n",
      "seat_count              object\n",
      "fuel_type               object\n",
      "date_created            object\n",
      "date_last_seen          object\n",
      "price_eur              float64\n",
      "dtype: object\n",
      "\n",
      "\n",
      "---データ情報(info)---\n",
      "<class 'pandas.core.frame.DataFrame'>\n",
      "Int64Index: 888228 entries, 2282567 to 2146943\n",
      "Data columns (total 16 columns):\n",
      "maker                  758767 non-null object\n",
      "model                  604963 non-null object\n",
      "mileage                797759 non-null float64\n",
      "manufacture_year       795878 non-null float64\n",
      "engine_displacement    702433 non-null float64\n",
      "engine_power           749571 non-null float64\n",
      "body_type              608008 non-null object\n",
      "color_slug             52624 non-null object\n",
      "stk_year               460425 non-null object\n",
      "transmission           702799 non-null object\n",
      "door_count             734344 non-null object\n",
      "seat_count             700943 non-null object\n",
      "fuel_type              426005 non-null object\n",
      "date_created           888228 non-null object\n",
      "date_last_seen         888228 non-null object\n",
      "price_eur              888228 non-null float64\n",
      "dtypes: float64(5), object(11)\n",
      "memory usage: 115.2+ MB\n",
      "None\n"
     ]
    }
   ],
   "source": [
    "print('---データ数(shape)---')\n",
    "print(df.shape)\n",
    "print('\\n')\n",
    "\n",
    "print('---有効データ数(count)---')\n",
    "print(df.count())\n",
    "print('\\n')\n",
    "\n",
    "print('---欠損データ数（isnull().sum()---')\n",
    "print(df.isnull().sum())\n",
    "print('\\n')\n",
    "\n",
    "print('---欠損値の割合---')\n",
    "print(df.isnull().sum()/df.shape[0])\n",
    "print('\\n')\n",
    "\n",
    "print('---データ型(dtypes)---')\n",
    "print(df.dtypes)\n",
    "print('\\n')\n",
    "\n",
    "print('---データ情報(info)---')\n",
    "print(df.info())"
   ]
  },
  {
   "cell_type": "markdown",
   "metadata": {},
   "source": [
    "## 要約量の確認"
   ]
  },
  {
   "cell_type": "code",
   "execution_count": 272,
   "metadata": {},
   "outputs": [
    {
     "data": {
      "text/html": [
       "<div>\n",
       "<style scoped>\n",
       "    .dataframe tbody tr th:only-of-type {\n",
       "        vertical-align: middle;\n",
       "    }\n",
       "\n",
       "    .dataframe tbody tr th {\n",
       "        vertical-align: top;\n",
       "    }\n",
       "\n",
       "    .dataframe thead th {\n",
       "        text-align: right;\n",
       "    }\n",
       "</style>\n",
       "<table border=\"1\" class=\"dataframe\">\n",
       "  <thead>\n",
       "    <tr style=\"text-align: right;\">\n",
       "      <th></th>\n",
       "      <th>mileage</th>\n",
       "      <th>manufacture_year</th>\n",
       "      <th>engine_displacement</th>\n",
       "      <th>engine_power</th>\n",
       "      <th>price_eur</th>\n",
       "    </tr>\n",
       "  </thead>\n",
       "  <tbody>\n",
       "    <tr>\n",
       "      <th>count</th>\n",
       "      <td>7.977590e+05</td>\n",
       "      <td>795878.000000</td>\n",
       "      <td>702433.000000</td>\n",
       "      <td>749571.000000</td>\n",
       "      <td>8.882280e+05</td>\n",
       "    </tr>\n",
       "    <tr>\n",
       "      <th>mean</th>\n",
       "      <td>1.159063e+05</td>\n",
       "      <td>2000.808873</td>\n",
       "      <td>2042.765531</td>\n",
       "      <td>98.448538</td>\n",
       "      <td>3.062208e+06</td>\n",
       "    </tr>\n",
       "    <tr>\n",
       "      <th>std</th>\n",
       "      <td>3.446937e+05</td>\n",
       "      <td>82.399243</td>\n",
       "      <td>1961.148841</td>\n",
       "      <td>49.012609</td>\n",
       "      <td>2.871372e+09</td>\n",
       "    </tr>\n",
       "    <tr>\n",
       "      <th>min</th>\n",
       "      <td>0.000000e+00</td>\n",
       "      <td>0.000000</td>\n",
       "      <td>0.000000</td>\n",
       "      <td>1.000000</td>\n",
       "      <td>4.000000e-02</td>\n",
       "    </tr>\n",
       "    <tr>\n",
       "      <th>25%</th>\n",
       "      <td>1.874200e+04</td>\n",
       "      <td>2004.000000</td>\n",
       "      <td>1400.000000</td>\n",
       "      <td>68.000000</td>\n",
       "      <td>1.295340e+03</td>\n",
       "    </tr>\n",
       "    <tr>\n",
       "      <th>50%</th>\n",
       "      <td>8.637600e+04</td>\n",
       "      <td>2009.000000</td>\n",
       "      <td>1798.000000</td>\n",
       "      <td>86.000000</td>\n",
       "      <td>7.327910e+03</td>\n",
       "    </tr>\n",
       "    <tr>\n",
       "      <th>75%</th>\n",
       "      <td>1.584085e+05</td>\n",
       "      <td>2013.000000</td>\n",
       "      <td>1997.000000</td>\n",
       "      <td>110.000000</td>\n",
       "      <td>1.628179e+04</td>\n",
       "    </tr>\n",
       "    <tr>\n",
       "      <th>max</th>\n",
       "      <td>9.999999e+06</td>\n",
       "      <td>2017.000000</td>\n",
       "      <td>32000.000000</td>\n",
       "      <td>999.000000</td>\n",
       "      <td>2.706149e+12</td>\n",
       "    </tr>\n",
       "  </tbody>\n",
       "</table>\n",
       "</div>"
      ],
      "text/plain": [
       "            mileage  manufacture_year  engine_displacement   engine_power  \\\n",
       "count  7.977590e+05     795878.000000        702433.000000  749571.000000   \n",
       "mean   1.159063e+05       2000.808873          2042.765531      98.448538   \n",
       "std    3.446937e+05         82.399243          1961.148841      49.012609   \n",
       "min    0.000000e+00          0.000000             0.000000       1.000000   \n",
       "25%    1.874200e+04       2004.000000          1400.000000      68.000000   \n",
       "50%    8.637600e+04       2009.000000          1798.000000      86.000000   \n",
       "75%    1.584085e+05       2013.000000          1997.000000     110.000000   \n",
       "max    9.999999e+06       2017.000000         32000.000000     999.000000   \n",
       "\n",
       "          price_eur  \n",
       "count  8.882280e+05  \n",
       "mean   3.062208e+06  \n",
       "std    2.871372e+09  \n",
       "min    4.000000e-02  \n",
       "25%    1.295340e+03  \n",
       "50%    7.327910e+03  \n",
       "75%    1.628179e+04  \n",
       "max    2.706149e+12  "
      ]
     },
     "execution_count": 272,
     "metadata": {},
     "output_type": "execute_result"
    }
   ],
   "source": [
    "df.describe()"
   ]
  },
  {
   "cell_type": "code",
   "execution_count": null,
   "metadata": {},
   "outputs": [],
   "source": []
  },
  {
   "cell_type": "markdown",
   "metadata": {},
   "source": [
    "## データクリーニング"
   ]
  },
  {
   "cell_type": "markdown",
   "metadata": {},
   "source": [
    "### Typoとか情報がないもの\n",
    "* bodytypeのotherをnanに\n",
    "* stk_yearのNoneをnanに\n",
    "* doorcount, seatcountのNoneをnanに\n",
    "* 製造年の0をnanに\n",
    "* 排気量の0をnanに\n",
    "* 新車（距離0）をnanに（これは必須ではない？）"
   ]
  },
  {
   "cell_type": "code",
   "execution_count": 273,
   "metadata": {},
   "outputs": [],
   "source": [
    "df['body_type'].replace('None', np.nan, inplace=True)\n",
    "df['stk_year'].replace('None', np.nan, inplace=True)\n",
    "df['door_count'].replace('None', np.nan, inplace=True)\n",
    "df['seat_count'].replace('None', np.nan, inplace=True)\n",
    "df['manufacture_year'].replace(0, np.nan, inplace=True)\n",
    "df['engine_displacement'].replace(0, np.nan, inplace=True)\n",
    "df['mileage'].replace(0, np.nan, inplace=True)"
   ]
  },
  {
   "cell_type": "code",
   "execution_count": 274,
   "metadata": {},
   "outputs": [
    {
     "name": "stdout",
     "output_type": "stream",
     "text": [
      "---有効データ数(count)---\n",
      "maker                  758767\n",
      "model                  604963\n",
      "mileage                757284\n",
      "manufacture_year       795849\n",
      "engine_displacement    702432\n",
      "engine_power           749571\n",
      "body_type              608008\n",
      "color_slug              52624\n",
      "stk_year               133993\n",
      "transmission           702799\n",
      "door_count             615857\n",
      "seat_count             566726\n",
      "fuel_type              426005\n",
      "date_created           888228\n",
      "date_last_seen         888228\n",
      "price_eur              888228\n",
      "dtype: int64\n",
      "\n",
      "\n",
      "---欠損データ数（isnull().sum()---\n",
      "maker                  129461\n",
      "model                  283265\n",
      "mileage                130944\n",
      "manufacture_year        92379\n",
      "engine_displacement    185796\n",
      "engine_power           138657\n",
      "body_type              280220\n",
      "color_slug             835604\n",
      "stk_year               754235\n",
      "transmission           185429\n",
      "door_count             272371\n",
      "seat_count             321502\n",
      "fuel_type              462223\n",
      "date_created                0\n",
      "date_last_seen              0\n",
      "price_eur                   0\n",
      "dtype: int64\n",
      "\n",
      "\n",
      "---欠損値の割合---\n",
      "maker                  0.145752\n",
      "model                  0.318910\n",
      "mileage                0.147422\n",
      "manufacture_year       0.104004\n",
      "engine_displacement    0.209176\n",
      "engine_power           0.156105\n",
      "body_type              0.315482\n",
      "color_slug             0.940754\n",
      "stk_year               0.849146\n",
      "transmission           0.208763\n",
      "door_count             0.306645\n",
      "seat_count             0.361959\n",
      "fuel_type              0.520388\n",
      "date_created           0.000000\n",
      "date_last_seen         0.000000\n",
      "price_eur              0.000000\n",
      "dtype: float64\n"
     ]
    }
   ],
   "source": [
    "print('---有効データ数(count)---')\n",
    "print(df.count())\n",
    "print('\\n')\n",
    "\n",
    "print('---欠損データ数（isnull().sum()---')\n",
    "print(df.isnull().sum())\n",
    "print('\\n')\n",
    "\n",
    "print('---欠損値の割合---')\n",
    "print(df.isnull().sum()/df.shape[0])\n"
   ]
  },
  {
   "cell_type": "markdown",
   "metadata": {},
   "source": [
    "### 外れ値"
   ]
  },
  {
   "cell_type": "code",
   "execution_count": 275,
   "metadata": {},
   "outputs": [],
   "source": [
    "def outlier_df(df):\n",
    "\n",
    "    for i in range(len(df.columns)):\n",
    "\n",
    "        # 列を抽出する\n",
    "        col = df.iloc[:,i]\n",
    "\n",
    "        # 四分位数\n",
    "        q1 = col.describe()['25%']\n",
    "        q3 = col.describe()['75%']\n",
    "        iqr = q3 - q1 #四分位範囲\n",
    "\n",
    "        # 外れ値の基準点\n",
    "        outlier_min = q1 - (iqr) * 1.5\n",
    "        outlier_max = q3 + (iqr) * 1.5\n",
    "\n",
    "        # 範囲から外れている値を除く\n",
    "        col[col < outlier_min] = None\n",
    "        col[col > outlier_max] = None\n",
    "\n",
    "    return df\n",
    "\n",
    "\n",
    "def outlier_se(series):\n",
    "    # 四分位数\n",
    "    se = series\n",
    "    q1 = se.describe()['25%']\n",
    "    q3 = se.describe()['75%']\n",
    "    iqr = q3 - q1 #四分位範囲\n",
    "\n",
    "    # 外れ値の基準点\n",
    "    outlier_min = q1 - (iqr) * 1.5\n",
    "    outlier_max = q3 + (iqr) * 1.5\n",
    "\n",
    "    # 範囲から外れている値を除く\n",
    "    se[se < outlier_min] = True\n",
    "    se[se > outlier_max] = True\n",
    "\n",
    "    return se"
   ]
  },
  {
   "cell_type": "markdown",
   "metadata": {},
   "source": [
    "#### 1. priceの外れ値"
   ]
  },
  {
   "cell_type": "code",
   "execution_count": 277,
   "metadata": {},
   "outputs": [
    {
     "data": {
      "text/plain": [
       "<matplotlib.axes._subplots.AxesSubplot at 0x7fb1159beba8>"
      ]
     },
     "execution_count": 277,
     "metadata": {},
     "output_type": "execute_result"
    },
    {
     "data": {
      "image/png": "[encoded data removed]",
      "text/plain": [
       "<Figure size 576x432 with 1 Axes>"
      ]
     },
     "metadata": {},
     "output_type": "display_data"
    }
   ],
   "source": [
    "sns.distplot(df['price_eur'])"
   ]
  },
  {
   "cell_type": "code",
   "execution_count": 284,
   "metadata": {},
   "outputs": [
    {
     "data": {
      "text/plain": [
       "<matplotlib.axes._subplots.AxesSubplot at 0x7fb1911febe0>"
      ]
     },
     "execution_count": 284,
     "metadata": {},
     "output_type": "execute_result"
    },
    {
     "data": {
      "image/png": "[encoded data removed]",
      "text/plain": [
       "<Figure size 576x432 with 1 Axes>"
      ]
     },
     "metadata": {},
     "output_type": "display_data"
    }
   ],
   "source": [
    "# outlier_se(df['price_eur'])\n",
    "df = df[df['price_eur'] != True]\n",
    "sns.distplot(df['price_eur'])"
   ]
  },
  {
   "cell_type": "code",
   "execution_count": 285,
   "metadata": {},
   "outputs": [
    {
     "name": "stdout",
     "output_type": "stream",
     "text": [
      "---有効データ数(count)---\n",
      "maker                  727787\n",
      "model                  588004\n",
      "mileage                728536\n",
      "manufacture_year       768394\n",
      "engine_displacement    673645\n",
      "engine_power           718008\n",
      "body_type              587580\n",
      "color_slug              52342\n",
      "stk_year               128509\n",
      "transmission           670552\n",
      "door_count             586489\n",
      "seat_count             542113\n",
      "fuel_type              411879\n",
      "date_created           854526\n",
      "date_last_seen         854526\n",
      "price_eur              854526\n",
      "dtype: int64\n",
      "\n",
      "\n",
      "---欠損データ数（isnull().sum()---\n",
      "maker                  126739\n",
      "model                  266522\n",
      "mileage                125990\n",
      "manufacture_year        86132\n",
      "engine_displacement    180881\n",
      "engine_power           136518\n",
      "body_type              266946\n",
      "color_slug             802184\n",
      "stk_year               726017\n",
      "transmission           183974\n",
      "door_count             268037\n",
      "seat_count             312413\n",
      "fuel_type              442647\n",
      "date_created                0\n",
      "date_last_seen              0\n",
      "price_eur                   0\n",
      "dtype: int64\n",
      "\n",
      "\n",
      "---欠損値の割合---\n",
      "maker                  0.148315\n",
      "model                  0.311895\n",
      "mileage                0.147438\n",
      "manufacture_year       0.100795\n",
      "engine_displacement    0.211674\n",
      "engine_power           0.159759\n",
      "body_type              0.312391\n",
      "color_slug             0.938747\n",
      "stk_year               0.849614\n",
      "transmission           0.215294\n",
      "door_count             0.313667\n",
      "seat_count             0.365598\n",
      "fuel_type              0.518003\n",
      "date_created           0.000000\n",
      "date_last_seen         0.000000\n",
      "price_eur              0.000000\n",
      "dtype: float64\n"
     ]
    },
    {
     "data": {
      "text/html": [
       "<div>\n",
       "<style scoped>\n",
       "    .dataframe tbody tr th:only-of-type {\n",
       "        vertical-align: middle;\n",
       "    }\n",
       "\n",
       "    .dataframe tbody tr th {\n",
       "        vertical-align: top;\n",
       "    }\n",
       "\n",
       "    .dataframe thead th {\n",
       "        text-align: right;\n",
       "    }\n",
       "</style>\n",
       "<table border=\"1\" class=\"dataframe\">\n",
       "  <thead>\n",
       "    <tr style=\"text-align: right;\">\n",
       "      <th></th>\n",
       "      <th>mileage</th>\n",
       "      <th>manufacture_year</th>\n",
       "      <th>engine_displacement</th>\n",
       "      <th>engine_power</th>\n",
       "    </tr>\n",
       "  </thead>\n",
       "  <tbody>\n",
       "    <tr>\n",
       "      <th>count</th>\n",
       "      <td>7.285360e+05</td>\n",
       "      <td>768394.000000</td>\n",
       "      <td>673645.000000</td>\n",
       "      <td>718008.000000</td>\n",
       "    </tr>\n",
       "    <tr>\n",
       "      <th>mean</th>\n",
       "      <td>1.256522e+05</td>\n",
       "      <td>2000.526823</td>\n",
       "      <td>2000.770332</td>\n",
       "      <td>93.666505</td>\n",
       "    </tr>\n",
       "    <tr>\n",
       "      <th>std</th>\n",
       "      <td>3.579150e+05</td>\n",
       "      <td>82.813756</td>\n",
       "      <td>1972.402035</td>\n",
       "      <td>40.255472</td>\n",
       "    </tr>\n",
       "    <tr>\n",
       "      <th>min</th>\n",
       "      <td>1.000000e+00</td>\n",
       "      <td>1.000000</td>\n",
       "      <td>10.000000</td>\n",
       "      <td>1.000000</td>\n",
       "    </tr>\n",
       "    <tr>\n",
       "      <th>25%</th>\n",
       "      <td>2.750000e+04</td>\n",
       "      <td>2004.000000</td>\n",
       "      <td>1398.000000</td>\n",
       "      <td>66.000000</td>\n",
       "    </tr>\n",
       "    <tr>\n",
       "      <th>50%</th>\n",
       "      <td>9.750000e+04</td>\n",
       "      <td>2009.000000</td>\n",
       "      <td>1753.000000</td>\n",
       "      <td>85.000000</td>\n",
       "    </tr>\n",
       "    <tr>\n",
       "      <th>75%</th>\n",
       "      <td>1.650000e+05</td>\n",
       "      <td>2013.000000</td>\n",
       "      <td>1995.000000</td>\n",
       "      <td>110.000000</td>\n",
       "    </tr>\n",
       "    <tr>\n",
       "      <th>max</th>\n",
       "      <td>9.999999e+06</td>\n",
       "      <td>2017.000000</td>\n",
       "      <td>32000.000000</td>\n",
       "      <td>999.000000</td>\n",
       "    </tr>\n",
       "  </tbody>\n",
       "</table>\n",
       "</div>"
      ],
      "text/plain": [
       "            mileage  manufacture_year  engine_displacement   engine_power\n",
       "count  7.285360e+05     768394.000000        673645.000000  718008.000000\n",
       "mean   1.256522e+05       2000.526823          2000.770332      93.666505\n",
       "std    3.579150e+05         82.813756          1972.402035      40.255472\n",
       "min    1.000000e+00          1.000000            10.000000       1.000000\n",
       "25%    2.750000e+04       2004.000000          1398.000000      66.000000\n",
       "50%    9.750000e+04       2009.000000          1753.000000      85.000000\n",
       "75%    1.650000e+05       2013.000000          1995.000000     110.000000\n",
       "max    9.999999e+06       2017.000000         32000.000000     999.000000"
      ]
     },
     "execution_count": 285,
     "metadata": {},
     "output_type": "execute_result"
    }
   ],
   "source": [
    "print('---有効データ数(count)---')\n",
    "print(df.count())\n",
    "print('\\n')\n",
    "\n",
    "print('---欠損データ数（isnull().sum()---')\n",
    "print(df.isnull().sum())\n",
    "print('\\n')\n",
    "\n",
    "print('---欠損値の割合---')\n",
    "print(df.isnull().sum()/df.shape[0])\n",
    "df.describe()"
   ]
  },
  {
   "cell_type": "markdown",
   "metadata": {},
   "source": [
    "#### 2. engine_displacement"
   ]
  },
  {
   "cell_type": "code",
   "execution_count": 167,
   "metadata": {},
   "outputs": [
    {
     "data": {
      "text/plain": [
       "<matplotlib.axes._subplots.AxesSubplot at 0x7fb2165db6d8>"
      ]
     },
     "execution_count": 167,
     "metadata": {},
     "output_type": "execute_result"
    },
    {
     "data": {
      "image/png": "[encoded data removed]",
      "text/plain": [
       "<Figure size 576x432 with 1 Axes>"
      ]
     },
     "metadata": {},
     "output_type": "display_data"
    }
   ],
   "source": [
    "sns.distplot(df['engine_displacement'])"
   ]
  },
  {
   "cell_type": "code",
   "execution_count": 286,
   "metadata": {},
   "outputs": [
    {
     "name": "stderr",
     "output_type": "stream",
     "text": [
      "/Users/okudashimpeisimac/.pyenv/versions/anaconda3-5.2.0/envs/kaggle/lib/python3.7/site-packages/ipykernel_launcher.py:36: SettingWithCopyWarning: \n",
      "A value is trying to be set on a copy of a slice from a DataFrame\n",
      "\n",
      "See the caveats in the documentation: http://pandas.pydata.org/pandas-docs/stable/user_guide/indexing.html#returning-a-view-versus-a-copy\n"
     ]
    },
    {
     "data": {
      "text/plain": [
       "2282567     NaN\n",
       "845119     True\n",
       "645106      698\n",
       "2468530    1753\n",
       "3478350    1900\n",
       "           ... \n",
       "1950514    1461\n",
       "1280030     NaN\n",
       "1818013    1997\n",
       "2482226    True\n",
       "290990     1995\n",
       "Name: engine_displacement, Length: 854526, dtype: object"
      ]
     },
     "execution_count": 286,
     "metadata": {},
     "output_type": "execute_result"
    }
   ],
   "source": [
    "outlier_se(df['engine_displacement'])"
   ]
  },
  {
   "cell_type": "code",
   "execution_count": 287,
   "metadata": {},
   "outputs": [
    {
     "data": {
      "text/plain": [
       "<matplotlib.axes._subplots.AxesSubplot at 0x7fb165d70e80>"
      ]
     },
     "execution_count": 287,
     "metadata": {},
     "output_type": "execute_result"
    },
    {
     "data": {
      "image/png": "[encoded data removed]",
      "text/plain": [
       "<Figure size 576x432 with 1 Axes>"
      ]
     },
     "metadata": {},
     "output_type": "display_data"
    }
   ],
   "source": [
    "df = df[df['engine_displacement'] != True]\n",
    "sns.distplot(df['engine_displacement'])"
   ]
  },
  {
   "cell_type": "code",
   "execution_count": 169,
   "metadata": {},
   "outputs": [
    {
     "name": "stdout",
     "output_type": "stream",
     "text": [
      "---有効データ数(count)---\n",
      "maker                  533538\n",
      "model                  446467\n",
      "mileage                554471\n",
      "manufacture_year       569528\n",
      "engine_displacement    616826\n",
      "engine_power           593538\n",
      "body_type              424433\n",
      "color_slug              45956\n",
      "stk_year               102250\n",
      "transmission           540036\n",
      "door_count             507247\n",
      "seat_count             490183\n",
      "fuel_type              286199\n",
      "date_created           616826\n",
      "date_last_seen         616826\n",
      "price_eur              616826\n",
      "dtype: int64\n",
      "\n",
      "\n",
      "---欠損データ数（isnull().sum()---\n",
      "maker                   83288\n",
      "model                  170359\n",
      "mileage                 62355\n",
      "manufacture_year        47298\n",
      "engine_displacement         0\n",
      "engine_power            23288\n",
      "body_type              192393\n",
      "color_slug             570870\n",
      "stk_year               514576\n",
      "transmission            76790\n",
      "door_count             109579\n",
      "seat_count             126643\n",
      "fuel_type              330627\n",
      "date_created                0\n",
      "date_last_seen              0\n",
      "price_eur                   0\n",
      "dtype: int64\n",
      "\n",
      "\n",
      "---欠損値の割合---\n",
      "maker                  0.135027\n",
      "model                  0.276186\n",
      "mileage                0.101090\n",
      "manufacture_year       0.076680\n",
      "engine_displacement    0.000000\n",
      "engine_power           0.037755\n",
      "body_type              0.311908\n",
      "color_slug             0.925496\n",
      "stk_year               0.834232\n",
      "transmission           0.124492\n",
      "door_count             0.177650\n",
      "seat_count             0.205314\n",
      "fuel_type              0.536013\n",
      "date_created           0.000000\n",
      "date_last_seen         0.000000\n",
      "price_eur              0.000000\n",
      "dtype: float64\n"
     ]
    },
    {
     "data": {
      "text/plain": [
       "count    616826.000000\n",
       "mean       1682.996236\n",
       "std         382.801497\n",
       "min         504.000000\n",
       "25%        1395.000000\n",
       "50%        1600.000000\n",
       "75%        1975.000000\n",
       "max        2890.000000\n",
       "Name: engine_displacement, dtype: float64"
      ]
     },
     "execution_count": 169,
     "metadata": {},
     "output_type": "execute_result"
    }
   ],
   "source": [
    "print('---有効データ数(count)---')\n",
    "print(df.count())\n",
    "print('\\n')\n",
    "\n",
    "print('---欠損データ数（isnull().sum()---')\n",
    "print(df.isnull().sum())\n",
    "print('\\n')\n",
    "\n",
    "print('---欠損値の割合---')\n",
    "print(df.isnull().sum()/df.shape[0])"
   ]
  },
  {
   "cell_type": "markdown",
   "metadata": {},
   "source": [
    "#### 3. engine_power"
   ]
  },
  {
   "cell_type": "code",
   "execution_count": 171,
   "metadata": {},
   "outputs": [
    {
     "data": {
      "text/plain": [
       "<matplotlib.axes._subplots.AxesSubplot at 0x7fb1dcfb8550>"
      ]
     },
     "execution_count": 171,
     "metadata": {},
     "output_type": "execute_result"
    },
    {
     "data": {
      "image/png": "[encoded data removed]",
      "text/plain": [
       "<Figure size 576x432 with 1 Axes>"
      ]
     },
     "metadata": {},
     "output_type": "display_data"
    }
   ],
   "source": [
    "sns.distplot(df['engine_power'])"
   ]
  },
  {
   "cell_type": "code",
   "execution_count": 288,
   "metadata": {},
   "outputs": [
    {
     "data": {
      "text/plain": [
       "2282567     88\n",
       "645106      37\n",
       "2468530     66\n",
       "3478350     74\n",
       "1808645    105\n",
       "          ... \n",
       "2631653     63\n",
       "1950514     55\n",
       "1280030    NaN\n",
       "1818013     90\n",
       "290990     150\n",
       "Name: engine_power, Length: 797707, dtype: object"
      ]
     },
     "execution_count": 288,
     "metadata": {},
     "output_type": "execute_result"
    }
   ],
   "source": [
    "outlier_se(df['engine_power'])"
   ]
  },
  {
   "cell_type": "code",
   "execution_count": 289,
   "metadata": {},
   "outputs": [
    {
     "data": {
      "text/plain": [
       "<matplotlib.axes._subplots.AxesSubplot at 0x7fb1b4444f28>"
      ]
     },
     "execution_count": 289,
     "metadata": {},
     "output_type": "execute_result"
    },
    {
     "data": {
      "image/png": "[encoded data removed]",
      "text/plain": [
       "<Figure size 576x432 with 1 Axes>"
      ]
     },
     "metadata": {},
     "output_type": "display_data"
    }
   ],
   "source": [
    "df = df[df['engine_power'] != True]\n",
    "sns.distplot(df['engine_power'])"
   ]
  },
  {
   "cell_type": "code",
   "execution_count": 291,
   "metadata": {},
   "outputs": [
    {
     "name": "stdout",
     "output_type": "stream",
     "text": [
      "---有効データ数(count)---\n",
      "maker                  668353\n",
      "model                  551131\n",
      "mileage                671586\n",
      "manufacture_year       706841\n",
      "engine_displacement    611449\n",
      "engine_power           659030\n",
      "body_type              538345\n",
      "color_slug              46936\n",
      "stk_year               117973\n",
      "transmission           619234\n",
      "door_count             542523\n",
      "seat_count             500951\n",
      "fuel_type              377362\n",
      "date_created           787206\n",
      "date_last_seen         787206\n",
      "price_eur              787206\n",
      "dtype: int64\n",
      "\n",
      "\n",
      "---欠損データ数（isnull().sum()---\n",
      "maker                  118853\n",
      "model                  236075\n",
      "mileage                115620\n",
      "manufacture_year        80365\n",
      "engine_displacement    175757\n",
      "engine_power           128176\n",
      "body_type              248861\n",
      "color_slug             740270\n",
      "stk_year               669233\n",
      "transmission           167972\n",
      "door_count             244683\n",
      "seat_count             286255\n",
      "fuel_type              409844\n",
      "date_created                0\n",
      "date_last_seen              0\n",
      "price_eur                   0\n",
      "dtype: int64\n",
      "\n",
      "\n",
      "---欠損値の割合---\n",
      "maker                  0.150981\n",
      "model                  0.299890\n",
      "mileage                0.146874\n",
      "manufacture_year       0.102089\n",
      "engine_displacement    0.223267\n",
      "engine_power           0.162824\n",
      "body_type              0.316132\n",
      "color_slug             0.940376\n",
      "stk_year               0.850137\n",
      "transmission           0.213377\n",
      "door_count             0.310825\n",
      "seat_count             0.363634\n",
      "fuel_type              0.520631\n",
      "date_created           0.000000\n",
      "date_last_seen         0.000000\n",
      "price_eur              0.000000\n",
      "dtype: float64\n"
     ]
    }
   ],
   "source": [
    "print('---有効データ数(count)---')\n",
    "print(df.count())\n",
    "print('\\n')\n",
    "\n",
    "print('---欠損データ数（isnull().sum()---')\n",
    "print(df.isnull().sum())\n",
    "print('\\n')\n",
    "\n",
    "print('---欠損値の割合---')\n",
    "print(df.isnull().sum()/df.shape[0])"
   ]
  },
  {
   "cell_type": "markdown",
   "metadata": {},
   "source": [
    "#### 4. manufacture_year"
   ]
  },
  {
   "cell_type": "code",
   "execution_count": 292,
   "metadata": {},
   "outputs": [
    {
     "data": {
      "text/plain": [
       "<matplotlib.axes._subplots.AxesSubplot at 0x7fb144a7f048>"
      ]
     },
     "execution_count": 292,
     "metadata": {},
     "output_type": "execute_result"
    },
    {
     "data": {
      "image/png": "[encoded data removed]",
      "text/plain": [
       "<Figure size 576x432 with 1 Axes>"
      ]
     },
     "metadata": {},
     "output_type": "display_data"
    }
   ],
   "source": [
    "sns.distplot(df['manufacture_year'])"
   ]
  },
  {
   "cell_type": "code",
   "execution_count": 293,
   "metadata": {},
   "outputs": [
    {
     "data": {
      "text/plain": [
       "2282567    2009\n",
       "645106     2004\n",
       "2468530    2002\n",
       "3478350    2003\n",
       "1808645    2002\n",
       "           ... \n",
       "2631653    2012\n",
       "1950514    2011\n",
       "1280030    2006\n",
       "1818013    1991\n",
       "290990     2010\n",
       "Name: manufacture_year, Length: 787206, dtype: object"
      ]
     },
     "execution_count": 293,
     "metadata": {},
     "output_type": "execute_result"
    }
   ],
   "source": [
    "outlier_se(df['manufacture_year'])"
   ]
  },
  {
   "cell_type": "code",
   "execution_count": 294,
   "metadata": {},
   "outputs": [
    {
     "data": {
      "text/plain": [
       "<matplotlib.axes._subplots.AxesSubplot at 0x7fb114d3df60>"
      ]
     },
     "execution_count": 294,
     "metadata": {},
     "output_type": "execute_result"
    },
    {
     "data": {
      "image/png": "[encoded data removed]",
      "text/plain": [
       "<Figure size 576x432 with 1 Axes>"
      ]
     },
     "metadata": {},
     "output_type": "display_data"
    }
   ],
   "source": [
    "df = df[df['manufacture_year'] != True]\n",
    "sns.distplot(df['manufacture_year'])"
   ]
  },
  {
   "cell_type": "code",
   "execution_count": 295,
   "metadata": {},
   "outputs": [
    {
     "name": "stdout",
     "output_type": "stream",
     "text": [
      "---有効データ数(count)---\n",
      "maker                  656907\n",
      "model                  542663\n",
      "mileage                660107\n",
      "manufacture_year       691414\n",
      "engine_displacement    603862\n",
      "engine_power           650322\n",
      "body_type              525737\n",
      "color_slug              46677\n",
      "stk_year               115900\n",
      "transmission           612532\n",
      "door_count             539265\n",
      "seat_count             498387\n",
      "fuel_type              369787\n",
      "date_created           771779\n",
      "date_last_seen         771779\n",
      "price_eur              771779\n",
      "dtype: int64\n",
      "\n",
      "\n",
      "---欠損データ数（isnull().sum()---\n",
      "maker                  114872\n",
      "model                  229116\n",
      "mileage                111672\n",
      "manufacture_year        80365\n",
      "engine_displacement    167917\n",
      "engine_power           121457\n",
      "body_type              246042\n",
      "color_slug             725102\n",
      "stk_year               655879\n",
      "transmission           159247\n",
      "door_count             232514\n",
      "seat_count             273392\n",
      "fuel_type              401992\n",
      "date_created                0\n",
      "date_last_seen              0\n",
      "price_eur                   0\n",
      "dtype: int64\n",
      "\n",
      "\n",
      "---欠損値の割合---\n",
      "maker                  0.148841\n",
      "model                  0.296867\n",
      "mileage                0.144694\n",
      "manufacture_year       0.104130\n",
      "engine_displacement    0.217571\n",
      "engine_power           0.157373\n",
      "body_type              0.318799\n",
      "color_slug             0.939520\n",
      "stk_year               0.849827\n",
      "transmission           0.206338\n",
      "door_count             0.301270\n",
      "seat_count             0.354236\n",
      "fuel_type              0.520864\n",
      "date_created           0.000000\n",
      "date_last_seen         0.000000\n",
      "price_eur              0.000000\n",
      "dtype: float64\n"
     ]
    }
   ],
   "source": [
    "print('---有効データ数(count)---')\n",
    "print(df.count())\n",
    "print('\\n')\n",
    "\n",
    "print('---欠損データ数（isnull().sum()---')\n",
    "print(df.isnull().sum())\n",
    "print('\\n')\n",
    "\n",
    "print('---欠損値の割合---')\n",
    "print(df.isnull().sum()/df.shape[0])"
   ]
  },
  {
   "cell_type": "markdown",
   "metadata": {},
   "source": [
    "#### 5. mileage"
   ]
  },
  {
   "cell_type": "code",
   "execution_count": 296,
   "metadata": {},
   "outputs": [
    {
     "data": {
      "text/plain": [
       "<matplotlib.axes._subplots.AxesSubplot at 0x7fb165dd7da0>"
      ]
     },
     "execution_count": 296,
     "metadata": {},
     "output_type": "execute_result"
    },
    {
     "data": {
      "image/png": "[encoded data removed]",
      "text/plain": [
       "<Figure size 576x432 with 1 Axes>"
      ]
     },
     "metadata": {},
     "output_type": "display_data"
    }
   ],
   "source": [
    "sns.distplot(df['mileage'])"
   ]
  },
  {
   "cell_type": "code",
   "execution_count": 298,
   "metadata": {},
   "outputs": [
    {
     "name": "stderr",
     "output_type": "stream",
     "text": [
      "/Users/okudashimpeisimac/.pyenv/versions/anaconda3-5.2.0/envs/kaggle/lib/python3.7/site-packages/ipykernel_launcher.py:37: SettingWithCopyWarning: \n",
      "A value is trying to be set on a copy of a slice from a DataFrame\n",
      "\n",
      "See the caveats in the documentation: http://pandas.pydata.org/pandas-docs/stable/user_guide/indexing.html#returning-a-view-versus-a-copy\n"
     ]
    },
    {
     "data": {
      "text/plain": [
       "2282567    129000\n",
       "645106      99985\n",
       "2468530    212020\n",
       "3478350    180000\n",
       "1808645    188000\n",
       "            ...  \n",
       "2631653     13254\n",
       "1950514     97000\n",
       "1280030    168000\n",
       "1818013    108000\n",
       "290990      65000\n",
       "Name: mileage, Length: 764042, dtype: object"
      ]
     },
     "execution_count": 298,
     "metadata": {},
     "output_type": "execute_result"
    }
   ],
   "source": [
    "outlier_se(df['mileage'])"
   ]
  },
  {
   "cell_type": "code",
   "execution_count": 299,
   "metadata": {},
   "outputs": [
    {
     "data": {
      "text/plain": [
       "<matplotlib.axes._subplots.AxesSubplot at 0x7fb18cd5d1d0>"
      ]
     },
     "execution_count": 299,
     "metadata": {},
     "output_type": "execute_result"
    },
    {
     "data": {
      "image/png": "[encoded data removed]",
      "text/plain": [
       "<Figure size 576x432 with 1 Axes>"
      ]
     },
     "metadata": {},
     "output_type": "display_data"
    }
   ],
   "source": [
    "df = df[df['mileage'] != True]\n",
    "sns.distplot(df['mileage'])"
   ]
  },
  {
   "cell_type": "code",
   "execution_count": 301,
   "metadata": {},
   "outputs": [
    {
     "name": "stdout",
     "output_type": "stream",
     "text": [
      "---有効データ数(count)---\n",
      "maker                  645565\n",
      "model                  533140\n",
      "mileage                647201\n",
      "manufacture_year       682423\n",
      "engine_displacement    593488\n",
      "engine_power           638879\n",
      "body_type              515380\n",
      "color_slug              45955\n",
      "stk_year               114529\n",
      "transmission           602347\n",
      "door_count             530651\n",
      "seat_count             491905\n",
      "fuel_type              364894\n",
      "date_created           758873\n",
      "date_last_seen         758873\n",
      "price_eur              758873\n",
      "dtype: int64\n",
      "\n",
      "\n",
      "---欠損データ数（isnull().sum()---\n",
      "maker                  113308\n",
      "model                  225733\n",
      "mileage                111672\n",
      "manufacture_year        76450\n",
      "engine_displacement    165385\n",
      "engine_power           119994\n",
      "body_type              243493\n",
      "color_slug             712918\n",
      "stk_year               644344\n",
      "transmission           156526\n",
      "door_count             228222\n",
      "seat_count             266968\n",
      "fuel_type              393979\n",
      "date_created                0\n",
      "date_last_seen              0\n",
      "price_eur                   0\n",
      "dtype: int64\n",
      "\n",
      "\n",
      "---欠損値の割合---\n",
      "maker                  0.149311\n",
      "model                  0.297458\n",
      "mileage                0.147155\n",
      "manufacture_year       0.100741\n",
      "engine_displacement    0.217935\n",
      "engine_power           0.158121\n",
      "body_type              0.320861\n",
      "color_slug             0.939443\n",
      "stk_year               0.849080\n",
      "transmission           0.206261\n",
      "door_count             0.300738\n",
      "seat_count             0.351795\n",
      "fuel_type              0.519163\n",
      "date_created           0.000000\n",
      "date_last_seen         0.000000\n",
      "price_eur              0.000000\n",
      "dtype: float64\n"
     ]
    }
   ],
   "source": [
    "print('---有効データ数(count)---')\n",
    "print(df.count())\n",
    "print('\\n')\n",
    "\n",
    "print('---欠損データ数（isnull().sum()---')\n",
    "print(df.isnull().sum())\n",
    "print('\\n')\n",
    "\n",
    "print('---欠損値の割合---')\n",
    "print(df.isnull().sum()/df.shape[0])"
   ]
  },
  {
   "cell_type": "markdown",
   "metadata": {},
   "source": [
    "### 情報のない列の削除\n",
    "* 欠損値が20%以上\n",
    "    * maker                   0.170620\n",
    "    * <b>model                   0.468235</b>\n",
    "    * mileage                 0.113404\n",
    "    * manufacture_year        0.116035\n",
    "    * <b>engine_displacement     0.264502</b>\n",
    "    * engine_power            0.184982\n",
    "    * <b>body_type               0.460882</b>\n",
    "    * <b>color_slug             15.878763</b>\n",
    "    * <b>stk_year                0.929148</b>\n",
    "    * <b>transmission            0.263844</b>\n",
    "    * <b>door_count              0.209553</b>\n",
    "    * <b>seat_count              0.267190</b>\n",
    "    * <b>fuel_type               1.085018</b>\n",
    "    * date_created            0.000000\n",
    "    * date_last_seen          0.000000\n",
    "    * price_eur               0.000000\n",
    "* 欠損値が30%以上\n",
    "    * maker                   0.170620\n",
    "    * <b>model                   0.468235</b>\n",
    "    * mileage                 0.113404\n",
    "    * manufacture_year        0.116035\n",
    "    * engine_displacement     0.264502\n",
    "    * engine_power            0.184982\n",
    "    * <b>body_type               0.460882</b>\n",
    "    * <b>color_slug             15.878763</b>\n",
    "    * <b>stk_year                0.929148</b>\n",
    "    * transmission            0.263844\n",
    "    * <b>door_count              0.209553</b>\n",
    "    * <b>seat_count              0.267190</b>\n",
    "    * <b>fuel_type               1.085018</b>\n",
    "    * date_created            0.000000\n",
    "    * date_last_seen          0.000000\n",
    "    * price_eur               0.000000\n",
    "* other\n",
    "date_createdとdate_last_seenは全てが別の値なので、いったん削除"
   ]
  },
  {
   "cell_type": "code",
   "execution_count": 1,
   "metadata": {},
   "outputs": [
    {
     "ename": "NameError",
     "evalue": "name 'df' is not defined",
     "output_type": "error",
     "traceback": [
      "\u001b[0;31m---------------------------------------------------------------------------\u001b[0m",
      "\u001b[0;31mNameError\u001b[0m                                 Traceback (most recent call last)",
      "\u001b[0;32m<ipython-input-1-c8e451434541>\u001b[0m in \u001b[0;36m<module>\u001b[0;34m\u001b[0m\n\u001b[0;32m----> 1\u001b[0;31m \u001b[0mfeatures\u001b[0m \u001b[0;34m=\u001b[0m \u001b[0mlist\u001b[0m\u001b[0;34m(\u001b[0m\u001b[0mdf\u001b[0m\u001b[0;34m.\u001b[0m\u001b[0mcolumns\u001b[0m\u001b[0;34m)\u001b[0m\u001b[0;34m\u001b[0m\u001b[0m\n\u001b[0m\u001b[1;32m      2\u001b[0m bad_features20 = ['model',\n\u001b[1;32m      3\u001b[0m                   \u001b[0;34m'engine_displacement'\u001b[0m\u001b[0;34m,\u001b[0m\u001b[0;34m\u001b[0m\u001b[0m\n\u001b[1;32m      4\u001b[0m                   \u001b[0;34m'body_type'\u001b[0m\u001b[0;34m,\u001b[0m\u001b[0;34m\u001b[0m\u001b[0m\n\u001b[1;32m      5\u001b[0m                   \u001b[0;34m'color_slug'\u001b[0m\u001b[0;34m,\u001b[0m\u001b[0;34m\u001b[0m\u001b[0m\n",
      "\u001b[0;31mNameError\u001b[0m: name 'df' is not defined"
     ]
    }
   ],
   "source": [
    "features = list(df.columns)\n",
    "bad_features20 = ['model',\n",
    "                  'engine_displacement',\n",
    "                  'body_type',\n",
    "                  'color_slug',\n",
    "                  'stk_year',\n",
    "                  'transmission',\n",
    "                  'door_count',\n",
    "                  'seat_count',\n",
    "                  'fuel_type']\n",
    "bad_features30 =  ['body_type',\n",
    "                  'color_slug',\n",
    "                  'stk_year',\n",
    "                  'door_count',\n",
    "                  'seat_count',\n",
    "                  'fuel_type']\n",
    "bad_features = ['date_created','date_last_seen']"
   ]
  },
  {
   "cell_type": "code",
   "execution_count": 71,
   "metadata": {},
   "outputs": [
    {
     "data": {
      "text/html": [
       "<div>\n",
       "<style scoped>\n",
       "    .dataframe tbody tr th:only-of-type {\n",
       "        vertical-align: middle;\n",
       "    }\n",
       "\n",
       "    .dataframe tbody tr th {\n",
       "        vertical-align: top;\n",
       "    }\n",
       "\n",
       "    .dataframe thead th {\n",
       "        text-align: right;\n",
       "    }\n",
       "</style>\n",
       "<table border=\"1\" class=\"dataframe\">\n",
       "  <thead>\n",
       "    <tr style=\"text-align: right;\">\n",
       "      <th></th>\n",
       "      <th>maker</th>\n",
       "      <th>mileage</th>\n",
       "      <th>manufacture_year</th>\n",
       "      <th>engine_displacement</th>\n",
       "      <th>engine_power</th>\n",
       "      <th>transmission</th>\n",
       "      <th>price_eur</th>\n",
       "    </tr>\n",
       "  </thead>\n",
       "  <tbody>\n",
       "    <tr>\n",
       "      <th>2282567</th>\n",
       "      <td>ford</td>\n",
       "      <td>129000.0</td>\n",
       "      <td>2009.0</td>\n",
       "      <td>NaN</td>\n",
       "      <td>88.0</td>\n",
       "      <td>man</td>\n",
       "      <td>6900.00</td>\n",
       "    </tr>\n",
       "    <tr>\n",
       "      <th>845119</th>\n",
       "      <td>seat</td>\n",
       "      <td>NaN</td>\n",
       "      <td>2004.0</td>\n",
       "      <td>4245.0</td>\n",
       "      <td>NaN</td>\n",
       "      <td>NaN</td>\n",
       "      <td>3886.01</td>\n",
       "    </tr>\n",
       "    <tr>\n",
       "      <th>645106</th>\n",
       "      <td>smart</td>\n",
       "      <td>99985.0</td>\n",
       "      <td>2004.0</td>\n",
       "      <td>698.0</td>\n",
       "      <td>37.0</td>\n",
       "      <td>auto</td>\n",
       "      <td>2000.22</td>\n",
       "    </tr>\n",
       "    <tr>\n",
       "      <th>2468530</th>\n",
       "      <td>ford</td>\n",
       "      <td>212020.0</td>\n",
       "      <td>2002.0</td>\n",
       "      <td>1753.0</td>\n",
       "      <td>66.0</td>\n",
       "      <td>man</td>\n",
       "      <td>1600.00</td>\n",
       "    </tr>\n",
       "    <tr>\n",
       "      <th>3478350</th>\n",
       "      <td>volkswagen</td>\n",
       "      <td>180000.0</td>\n",
       "      <td>2003.0</td>\n",
       "      <td>1900.0</td>\n",
       "      <td>74.0</td>\n",
       "      <td>man</td>\n",
       "      <td>1295.34</td>\n",
       "    </tr>\n",
       "    <tr>\n",
       "      <th>...</th>\n",
       "      <td>...</td>\n",
       "      <td>...</td>\n",
       "      <td>...</td>\n",
       "      <td>...</td>\n",
       "      <td>...</td>\n",
       "      <td>...</td>\n",
       "      <td>...</td>\n",
       "    </tr>\n",
       "    <tr>\n",
       "      <th>1280030</th>\n",
       "      <td>NaN</td>\n",
       "      <td>168000.0</td>\n",
       "      <td>2006.0</td>\n",
       "      <td>NaN</td>\n",
       "      <td>NaN</td>\n",
       "      <td>man</td>\n",
       "      <td>4490.00</td>\n",
       "    </tr>\n",
       "    <tr>\n",
       "      <th>1818013</th>\n",
       "      <td>mercedes-benz</td>\n",
       "      <td>108000.0</td>\n",
       "      <td>1991.0</td>\n",
       "      <td>1997.0</td>\n",
       "      <td>90.0</td>\n",
       "      <td>man</td>\n",
       "      <td>2991.12</td>\n",
       "    </tr>\n",
       "    <tr>\n",
       "      <th>2482226</th>\n",
       "      <td>ford</td>\n",
       "      <td>2.0</td>\n",
       "      <td>2015.0</td>\n",
       "      <td>3198.0</td>\n",
       "      <td>147.0</td>\n",
       "      <td>auto</td>\n",
       "      <td>28140.53</td>\n",
       "    </tr>\n",
       "    <tr>\n",
       "      <th>290990</th>\n",
       "      <td>bmw</td>\n",
       "      <td>65000.0</td>\n",
       "      <td>2010.0</td>\n",
       "      <td>1995.0</td>\n",
       "      <td>150.0</td>\n",
       "      <td>man</td>\n",
       "      <td>19902.22</td>\n",
       "    </tr>\n",
       "    <tr>\n",
       "      <th>2146943</th>\n",
       "      <td>maserati</td>\n",
       "      <td>17800.0</td>\n",
       "      <td>2015.0</td>\n",
       "      <td>2987.0</td>\n",
       "      <td>202.0</td>\n",
       "      <td>auto</td>\n",
       "      <td>55900.00</td>\n",
       "    </tr>\n",
       "  </tbody>\n",
       "</table>\n",
       "<p>888228 rows × 7 columns</p>\n",
       "</div>"
      ],
      "text/plain": [
       "                 maker   mileage  manufacture_year  engine_displacement  \\\n",
       "2282567           ford  129000.0            2009.0                  NaN   \n",
       "845119            seat       NaN            2004.0               4245.0   \n",
       "645106           smart   99985.0            2004.0                698.0   \n",
       "2468530           ford  212020.0            2002.0               1753.0   \n",
       "3478350     volkswagen  180000.0            2003.0               1900.0   \n",
       "...                ...       ...               ...                  ...   \n",
       "1280030            NaN  168000.0            2006.0                  NaN   \n",
       "1818013  mercedes-benz  108000.0            1991.0               1997.0   \n",
       "2482226           ford       2.0            2015.0               3198.0   \n",
       "290990             bmw   65000.0            2010.0               1995.0   \n",
       "2146943       maserati   17800.0            2015.0               2987.0   \n",
       "\n",
       "         engine_power transmission  price_eur  \n",
       "2282567          88.0          man    6900.00  \n",
       "845119            NaN          NaN    3886.01  \n",
       "645106           37.0         auto    2000.22  \n",
       "2468530          66.0          man    1600.00  \n",
       "3478350          74.0          man    1295.34  \n",
       "...               ...          ...        ...  \n",
       "1280030           NaN          man    4490.00  \n",
       "1818013          90.0          man    2991.12  \n",
       "2482226         147.0         auto   28140.53  \n",
       "290990          150.0          man   19902.22  \n",
       "2146943         202.0         auto   55900.00  \n",
       "\n",
       "[888228 rows x 7 columns]"
      ]
     },
     "execution_count": 71,
     "metadata": {},
     "output_type": "execute_result"
    }
   ],
   "source": [
    "df_drop = df.drop(bad_features30, axis=1).drop(bad_features, axis=1)\n",
    "df_drop"
   ]
  },
  {
   "cell_type": "markdown",
   "metadata": {},
   "source": [
    "### 欠損値の処理1\n",
    "* 全てdropnna -> \n",
    "* categoricalだけdrop,他はfillna -> "
   ]
  },
  {
   "cell_type": "code",
   "execution_count": 72,
   "metadata": {},
   "outputs": [
    {
     "name": "stdout",
     "output_type": "stream",
     "text": [
      "--欠損前--\n",
      "(888228, 7)\n",
      "--欠損後--\n",
      "(473705, 7)\n",
      "何%残ったか\n",
      "0.5333146444381398\n"
     ]
    }
   ],
   "source": [
    "df_dropall = df_drop\n",
    "df_dropall = df_dropall.dropna(how='any', axis=0)\n",
    "print('--欠損前--')\n",
    "print(df_drop.shape)\n",
    "print('--欠損後--')\n",
    "print(df_dropall.shape)\n",
    "print('何%残ったか')\n",
    "print(df_dropall.shape[0]/df_drop.shape[0])"
   ]
  },
  {
   "cell_type": "markdown",
   "metadata": {},
   "source": [
    "#### categoricalだけdropna"
   ]
  },
  {
   "cell_type": "code",
   "execution_count": 77,
   "metadata": {},
   "outputs": [
    {
     "data": {
      "text/html": [
       "<div>\n",
       "<style scoped>\n",
       "    .dataframe tbody tr th:only-of-type {\n",
       "        vertical-align: middle;\n",
       "    }\n",
       "\n",
       "    .dataframe tbody tr th {\n",
       "        vertical-align: top;\n",
       "    }\n",
       "\n",
       "    .dataframe thead th {\n",
       "        text-align: right;\n",
       "    }\n",
       "</style>\n",
       "<table border=\"1\" class=\"dataframe\">\n",
       "  <thead>\n",
       "    <tr style=\"text-align: right;\">\n",
       "      <th></th>\n",
       "      <th>maker</th>\n",
       "      <th>mileage</th>\n",
       "      <th>manufacture_year</th>\n",
       "      <th>engine_displacement</th>\n",
       "      <th>engine_power</th>\n",
       "      <th>transmission</th>\n",
       "      <th>price_eur</th>\n",
       "    </tr>\n",
       "  </thead>\n",
       "  <tbody>\n",
       "    <tr>\n",
       "      <th>2282567</th>\n",
       "      <td>ford</td>\n",
       "      <td>129000.0</td>\n",
       "      <td>2009.0</td>\n",
       "      <td>NaN</td>\n",
       "      <td>88.0</td>\n",
       "      <td>man</td>\n",
       "      <td>6900.00</td>\n",
       "    </tr>\n",
       "    <tr>\n",
       "      <th>845119</th>\n",
       "      <td>seat</td>\n",
       "      <td>NaN</td>\n",
       "      <td>2004.0</td>\n",
       "      <td>4245.0</td>\n",
       "      <td>NaN</td>\n",
       "      <td>NaN</td>\n",
       "      <td>3886.01</td>\n",
       "    </tr>\n",
       "    <tr>\n",
       "      <th>645106</th>\n",
       "      <td>smart</td>\n",
       "      <td>99985.0</td>\n",
       "      <td>2004.0</td>\n",
       "      <td>698.0</td>\n",
       "      <td>37.0</td>\n",
       "      <td>auto</td>\n",
       "      <td>2000.22</td>\n",
       "    </tr>\n",
       "    <tr>\n",
       "      <th>2468530</th>\n",
       "      <td>ford</td>\n",
       "      <td>212020.0</td>\n",
       "      <td>2002.0</td>\n",
       "      <td>1753.0</td>\n",
       "      <td>66.0</td>\n",
       "      <td>man</td>\n",
       "      <td>1600.00</td>\n",
       "    </tr>\n",
       "    <tr>\n",
       "      <th>3478350</th>\n",
       "      <td>volkswagen</td>\n",
       "      <td>180000.0</td>\n",
       "      <td>2003.0</td>\n",
       "      <td>1900.0</td>\n",
       "      <td>74.0</td>\n",
       "      <td>man</td>\n",
       "      <td>1295.34</td>\n",
       "    </tr>\n",
       "    <tr>\n",
       "      <th>...</th>\n",
       "      <td>...</td>\n",
       "      <td>...</td>\n",
       "      <td>...</td>\n",
       "      <td>...</td>\n",
       "      <td>...</td>\n",
       "      <td>...</td>\n",
       "      <td>...</td>\n",
       "    </tr>\n",
       "    <tr>\n",
       "      <th>1280030</th>\n",
       "      <td>NaN</td>\n",
       "      <td>168000.0</td>\n",
       "      <td>2006.0</td>\n",
       "      <td>NaN</td>\n",
       "      <td>NaN</td>\n",
       "      <td>man</td>\n",
       "      <td>4490.00</td>\n",
       "    </tr>\n",
       "    <tr>\n",
       "      <th>1818013</th>\n",
       "      <td>mercedes-benz</td>\n",
       "      <td>108000.0</td>\n",
       "      <td>1991.0</td>\n",
       "      <td>1997.0</td>\n",
       "      <td>90.0</td>\n",
       "      <td>man</td>\n",
       "      <td>2991.12</td>\n",
       "    </tr>\n",
       "    <tr>\n",
       "      <th>2482226</th>\n",
       "      <td>ford</td>\n",
       "      <td>2.0</td>\n",
       "      <td>2015.0</td>\n",
       "      <td>3198.0</td>\n",
       "      <td>147.0</td>\n",
       "      <td>auto</td>\n",
       "      <td>28140.53</td>\n",
       "    </tr>\n",
       "    <tr>\n",
       "      <th>290990</th>\n",
       "      <td>bmw</td>\n",
       "      <td>65000.0</td>\n",
       "      <td>2010.0</td>\n",
       "      <td>1995.0</td>\n",
       "      <td>150.0</td>\n",
       "      <td>man</td>\n",
       "      <td>19902.22</td>\n",
       "    </tr>\n",
       "    <tr>\n",
       "      <th>2146943</th>\n",
       "      <td>maserati</td>\n",
       "      <td>17800.0</td>\n",
       "      <td>2015.0</td>\n",
       "      <td>2987.0</td>\n",
       "      <td>202.0</td>\n",
       "      <td>auto</td>\n",
       "      <td>55900.00</td>\n",
       "    </tr>\n",
       "  </tbody>\n",
       "</table>\n",
       "<p>888228 rows × 7 columns</p>\n",
       "</div>"
      ],
      "text/plain": [
       "                 maker   mileage  manufacture_year  engine_displacement  \\\n",
       "2282567           ford  129000.0            2009.0                  NaN   \n",
       "845119            seat       NaN            2004.0               4245.0   \n",
       "645106           smart   99985.0            2004.0                698.0   \n",
       "2468530           ford  212020.0            2002.0               1753.0   \n",
       "3478350     volkswagen  180000.0            2003.0               1900.0   \n",
       "...                ...       ...               ...                  ...   \n",
       "1280030            NaN  168000.0            2006.0                  NaN   \n",
       "1818013  mercedes-benz  108000.0            1991.0               1997.0   \n",
       "2482226           ford       2.0            2015.0               3198.0   \n",
       "290990             bmw   65000.0            2010.0               1995.0   \n",
       "2146943       maserati   17800.0            2015.0               2987.0   \n",
       "\n",
       "         engine_power transmission  price_eur  \n",
       "2282567          88.0          man    6900.00  \n",
       "845119            NaN          NaN    3886.01  \n",
       "645106           37.0         auto    2000.22  \n",
       "2468530          66.0          man    1600.00  \n",
       "3478350          74.0          man    1295.34  \n",
       "...               ...          ...        ...  \n",
       "1280030           NaN          man    4490.00  \n",
       "1818013          90.0          man    2991.12  \n",
       "2482226         147.0         auto   28140.53  \n",
       "290990          150.0          man   19902.22  \n",
       "2146943         202.0         auto   55900.00  \n",
       "\n",
       "[888228 rows x 7 columns]"
      ]
     },
     "execution_count": 77,
     "metadata": {},
     "output_type": "execute_result"
    }
   ],
   "source": [
    "df_drop"
   ]
  },
  {
   "cell_type": "code",
   "execution_count": 80,
   "metadata": {},
   "outputs": [
    {
     "name": "stdout",
     "output_type": "stream",
     "text": [
      "--欠損値処理前--\n",
      "(888228, 7)\n",
      "--欠損値処理後--\n",
      "(610261, 7)\n",
      "何%残ったか\n",
      "0.6870544499835628\n"
     ]
    }
   ],
   "source": [
    "df_drop1 = df_drop\n",
    "# maker: categorival -> dropna\n",
    "\n",
    "# mileage: continuous -> dropna, fillna(average)\n",
    "df_drop1['mileage'] = df_drop1['mileage'].fillna(np.mean(df_drop1['mileage']))\n",
    "\n",
    "# manufacuture_year: continuous -> dropna, fillna(average)\n",
    "df_drop1['manufacture_year'] = df_drop1['manufacture_year'].fillna(np.mean(df_drop1['manufacture_year']))\n",
    "\n",
    "# engine_displacement: continuous -> dropna, fillna(average)\n",
    "df_drop1['engine_displacement'] = df_drop1['engine_displacement'].fillna(np.mean(df_drop1['engine_displacement']))\n",
    "\n",
    "# engine_power: continuous -> dropna, fillna(average)\n",
    "df_drop1['engine_power'] = df_drop1['engine_power'].fillna(np.mean(df_drop1['engine_power']))\n",
    "\n",
    "# transmission: categorival -> dropna\n",
    "\n",
    "df_drop1 = df_drop1.dropna()\n",
    "print('--欠損値処理前--')\n",
    "print(df_drop.shape)\n",
    "print('--欠損値処理後--')\n",
    "print(df_drop1.shape)\n",
    "print('何%残ったか')\n",
    "print(df_drop1.shape[0]/df_drop.shape[0])\n"
   ]
  }
 ],
 "metadata": {
  "kernelspec": {
   "display_name": "Python 3",
   "language": "python",
   "name": "python3"
  },
  "language_info": {
   "codemirror_mode": {
    "name": "ipython",
    "version": 3
   },
   "file_extension": ".py",
   "mimetype": "text/x-python",
   "name": "python",
   "nbconvert_exporter": "python",
   "pygments_lexer": "ipython3",
   "version": "3.6.5"
  }
 },
 "nbformat": 4,
 "nbformat_minor": 4
}
