{
 "cells": [
  {
   "cell_type": "code",
   "execution_count": 1,
   "metadata": {},
   "outputs": [],
   "source": [
    "import pandas as pd"
   ]
  },
  {
   "cell_type": "code",
   "execution_count": 2,
   "metadata": {},
   "outputs": [],
   "source": [
    "df1 = pd.read_csv('../data/car_ads_1.csv', index_col=0)\n",
    "df2 = pd.read_csv('../data/car_ads_2.csv', index_col=0)\n",
    "df3 = pd.read_csv('../data/car_ads_3.csv', index_col=0)\n",
    "df4 = pd.read_csv('../data/car_ads_4.csv', index_col=0)\n",
    "df5 = pd.read_csv('../data/car_ads_5.csv', index_col=0)"
   ]
  },
  {
   "cell_type": "code",
   "execution_count": 6,
   "metadata": {},
   "outputs": [
    {
     "name": "stdout",
     "output_type": "stream",
     "text": [
      "            mileage  manufacture_year  engine_displacement   engine_power  \\\n",
      "count  7.974870e+05     795628.000000        702152.000000  749307.000000   \n",
      "mean   1.153819e+05       2000.986231          2043.949030      98.396771   \n",
      "std    3.387249e+05         80.758205          1974.377608      48.980517   \n",
      "min    0.000000e+00          0.000000            10.000000       1.000000   \n",
      "25%    1.879400e+04       2004.000000          1400.000000      68.000000   \n",
      "50%    8.657000e+04       2009.000000          1798.000000      86.000000   \n",
      "75%    1.580000e+05       2013.000000          1997.000000     110.000000   \n",
      "max    9.999999e+06       2017.000000         32140.000000    2033.000000   \n",
      "\n",
      "          price_eur  \n",
      "count  8.882280e+05  \n",
      "mean   3.414622e+05  \n",
      "std    2.900875e+08  \n",
      "min    4.000000e-02  \n",
      "25%    1.295340e+03  \n",
      "50%    7.350560e+03  \n",
      "75%    1.625918e+04  \n",
      "max    2.729847e+11  \n",
      "            mileage  manufacture_year  engine_displacement   engine_power  \\\n",
      "count  7.973140e+05     795447.000000        702438.000000  749353.000000   \n",
      "mean   1.157000e+05       2000.973202          2045.295572      98.579170   \n",
      "std    3.437186e+05         81.062771          1972.077793      49.246413   \n",
      "min    0.000000e+00          0.000000             0.000000       1.000000   \n",
      "25%    1.870000e+04       2004.000000          1400.000000      68.000000   \n",
      "50%    8.624450e+04       2009.000000          1798.000000      86.000000   \n",
      "75%    1.580000e+05       2013.000000          1997.000000     110.000000   \n",
      "max    9.999999e+06       2017.000000         32000.000000    2237.000000   \n",
      "\n",
      "          price_eur  \n",
      "count  8.882280e+05  \n",
      "mean   3.409695e+04  \n",
      "std    1.590711e+07  \n",
      "min    4.000000e-02  \n",
      "25%    1.295340e+03  \n",
      "50%    7.364910e+03  \n",
      "75%    1.630566e+04  \n",
      "max    1.492235e+10  \n",
      "            mileage  manufacture_year  engine_displacement   engine_power  \\\n",
      "count  7.977590e+05     795878.000000        702433.000000  749571.000000   \n",
      "mean   1.159063e+05       2000.808873          2042.765531      98.448538   \n",
      "std    3.446937e+05         82.399243          1961.148841      49.012609   \n",
      "min    0.000000e+00          0.000000             0.000000       1.000000   \n",
      "25%    1.874200e+04       2004.000000          1400.000000      68.000000   \n",
      "50%    8.637600e+04       2009.000000          1798.000000      86.000000   \n",
      "75%    1.584085e+05       2013.000000          1997.000000     110.000000   \n",
      "max    9.999999e+06       2017.000000         32000.000000     999.000000   \n",
      "\n",
      "          price_eur  \n",
      "count  8.882280e+05  \n",
      "mean   3.062208e+06  \n",
      "std    2.871372e+09  \n",
      "min    4.000000e-02  \n",
      "25%    1.295340e+03  \n",
      "50%    7.327910e+03  \n",
      "75%    1.628179e+04  \n",
      "max    2.706149e+12  \n",
      "            mileage  manufacture_year  engine_displacement   engine_power  \\\n",
      "count  7.972020e+05     795487.000000        702109.000000  749176.000000   \n",
      "mean   1.152703e+05       2000.731969          2045.261155      98.393128   \n",
      "std    3.357453e+05         82.939232          1979.712090      48.945945   \n",
      "min    0.000000e+00          0.000000             1.000000       1.000000   \n",
      "25%    1.870100e+04       2004.000000          1400.000000      68.000000   \n",
      "50%    8.650000e+04       2009.000000          1798.000000      86.000000   \n",
      "75%    1.580200e+05       2013.000000          1997.000000     110.000000   \n",
      "max    9.999999e+06       2017.000000         32140.000000     999.000000   \n",
      "\n",
      "          price_eur  \n",
      "count  8.882280e+05  \n",
      "mean   3.062147e+06  \n",
      "std    2.871372e+09  \n",
      "min    4.000000e-02  \n",
      "25%    1.295340e+03  \n",
      "50%    7.350000e+03  \n",
      "75%    1.629060e+04  \n",
      "max    2.706149e+12  \n",
      "            mileage  manufacture_year  engine_displacement   engine_power  \\\n",
      "count  7.973730e+05     795832.000000        702310.000000  749643.000000   \n",
      "mean   1.164781e+05       2000.879676          2047.423552      98.410742   \n",
      "std    3.470295e+05         81.878210          1995.391732      49.048899   \n",
      "min    0.000000e+00          0.000000             2.000000       2.000000   \n",
      "25%    1.878600e+04       2004.000000          1400.000000      68.000000   \n",
      "50%    8.679800e+04       2009.000000          1798.000000      86.000000   \n",
      "75%    1.584550e+05       2013.000000          1997.000000     110.000000   \n",
      "max    9.999999e+06       2017.000000         32000.000000     999.000000   \n",
      "\n",
      "          price_eur  \n",
      "count  8.882280e+05  \n",
      "mean   3.746672e+05  \n",
      "std    2.909444e+08  \n",
      "min    4.000000e-02  \n",
      "25%    1.295340e+03  \n",
      "50%    7.350000e+03  \n",
      "75%    1.629000e+04  \n",
      "max    2.729847e+11  \n"
     ]
    }
   ],
   "source": [
    "print(df1.describe())\n",
    "print(df2.describe())\n",
    "print(df3.describe())\n",
    "print(df4.describe())\n",
    "print(df5.describe())"
   ]
  },
  {
   "cell_type": "code",
   "execution_count": null,
   "metadata": {},
   "outputs": [],
   "source": []
  }
 ],
 "metadata": {
  "kernelspec": {
   "display_name": "Python 3",
   "language": "python",
   "name": "python3"
  },
  "language_info": {
   "codemirror_mode": {
    "name": "ipython",
    "version": 3
   },
   "file_extension": ".py",
   "mimetype": "text/x-python",
   "name": "python",
   "nbconvert_exporter": "python",
   "pygments_lexer": "ipython3",
   "version": "3.7.3"
  }
 },
 "nbformat": 4,
 "nbformat_minor": 4
}
